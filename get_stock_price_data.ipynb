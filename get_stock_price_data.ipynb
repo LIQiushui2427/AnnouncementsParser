{
 "cells": [
  {
   "cell_type": "code",
   "execution_count": null,
   "metadata": {},
   "outputs": [],
   "source": [
    "import yfinance as yf\n",
    "import pandas as pd"
   ]
  },
  {
   "cell_type": "code",
   "execution_count": null,
   "metadata": {},
   "outputs": [],
   "source": [
    "# Download the FTSE 100 data from Yahoo Finance\n",
    "df = yf.download(\"^FTSE\", start=\"2022-01-01\", end=\"2024-07-07\")\n",
    "df.to_csv(\"./Data/FTSE100.csv\")"
   ]
  },
  {
   "cell_type": "code",
   "execution_count": null,
   "metadata": {},
   "outputs": [],
   "source": [
    "df = yf.download(\"RR.L\", start=\"2022-01-01\", end=\"2024-07-07\")\n",
    "df.to_csv(\"./Data/RollsRoyce.csv\")"
   ]
  },
  {
   "cell_type": "markdown",
   "metadata": {},
   "source": [
    "# Get TCFD Score from Report of Companies, using ChatGPT to extract the score"
   ]
  },
  {
   "cell_type": "code",
   "execution_count": null,
   "metadata": {},
   "outputs": [],
   "source": [
    "import pdfplumber\n",
    "import glob\n",
    "\n",
    "# Find all PDF files in the Data folder recursively\n",
    "pdf_files = glob.glob('./Data/*.pdf', recursive=True)\n",
    "\n",
    "# Open the PDF file\n",
    "for pdf_file in pdf_files:\n",
    "    with pdfplumber.open(pdf_file) as pdf:\n",
    "        # Extract text from each page\n",
    "        text = ''\n",
    "        for page in pdf.pages:\n",
    "            text += page.extract_text()\n",
    "        # Print the extracted text (for verification)\n",
    "        print(text)\n",
    "        # Save the extracted text to a text file\n",
    "        with open(pdf_file.replace('.pdf', '.txt'), encoding='utf-8', mode='w') as f:\n",
    "            f.write(text)\n"
   ]
  },
  {
   "cell_type": "code",
   "execution_count": null,
   "metadata": {},
   "outputs": [],
   "source": [
    "# Load stock data\n",
    "import pandas as pd\n",
    "df = pd.read_csv(\"./Data/RollsRoyce.csv\", index_col='Date', parse_dates=True)"
   ]
  },
  {
   "cell_type": "code",
   "execution_count": null,
   "metadata": {},
   "outputs": [],
   "source": [
    "import matplotlib.pyplot as plt\n",
    "# Plot the stock price\n",
    "plt.figure(figsize=(10, 6))\n",
    "plt.plot(df['Close'], label='Close')\n",
    "# Identify trend changes, plot red dots for peaks and green dots for troughs\n",
    "trend = new_trend = None\n",
    "# Fixed window size for the moving average\n",
    "window_size = 20\n",
    "change_dates = []\n",
    "# if the price is above the moving average by 20% or more, it is an uptrend\n",
    "for i in range(window_size, len(df) - window_size):\n",
    "    if df['Close'][i] > df['Close'][i - window_size:i].mean() * 1.1:\n",
    "        new_trend = 'up'\n",
    "    elif df['Close'][i] < df['Close'][i - window_size:i].mean() * 0.9:\n",
    "        new_trend = 'down'\n",
    "    if new_trend != trend:\n",
    "        change_dates.append(df.index[i])\n",
    "        plt.plot(df.index[i], df['Close'][i], 'ro' if new_trend == 'up' else 'go')\n",
    "        trend = new_trend\n",
    "plt.title('Rolls Royce stock price')\n",
    "plt.legend()\n",
    "plt.show()\n",
    "change_dates\n",
    "\n"
   ]
  },
  {
   "cell_type": "code",
   "execution_count": null,
   "metadata": {},
   "outputs": [],
   "source": [
    "# Perform a linear regression to find the relationship between the FTSE 100 and Rolls Royce stock\n",
    "import pandas as pd\n",
    "import statsmodels.api as sm\n",
    "import matplotlib.pyplot as plt\n",
    "# Load FTSE 100 data\n",
    "df_ftse = pd.read_csv(\"./Data/FTSE100.csv\", index_col='Date', parse_dates=True)\n",
    "df = pd.read_csv(\"./Data/RollsRoyce.csv\", index_col='Date', parse_dates=True)\n",
    "\n",
    "assert df.index[0] == df_ftse.index[0], 'The start date of the two datasets should be the same'\n",
    "if len(df) > len(df_ftse):\n",
    "    df = df.loc[:df_ftse.index[-1]]\n",
    "elif len(df) < len(df_ftse):\n",
    "    df_ftse = df_ftse.loc[:df.index[-1]]\n",
    "\n",
    "stock_return = df['Close'].pct_change().dropna()\n",
    "ftse_return = df_ftse['Close'].pct_change().dropna()\n",
    "X = ftse_return\n",
    "Y = stock_return\n",
    "\n",
    "# Perform join on the two dataframes\n",
    "print(\"Y fisrt and last date: \", Y.index[0], Y.index[-1])\n",
    "print(\"X fisrt and last date: \", X.index[0], X.index[-1])\n",
    "X = ftse_return.tolist()\n",
    "Y = stock_return.tolist()\n",
    "assert len(X) == len(Y), 'The length of X and Y should be the same '+ str(len(X))+' '+str(len(Y))\n",
    "\n",
    "X = sm.add_constant(X)\n",
    "\n",
    "model = sm.OLS(Y, X).fit()\n",
    "print(model.summary())  \n",
    "\n",
    "# Step 4: Calculate Abnormal Returns\n",
    "stock_returns_predicted = model.predict(X)\n",
    "abnormal_returns = stock_return[:len(stock_returns_predicted)] - stock_returns_predicted\n",
    "\n",
    "# Plot the abnormal returns\n",
    "plt.figure(figsize=(10, 6))\n",
    "plt.plot(abnormal_returns, label='Abnormal Returns')\n",
    "plt.title('Rolls Royce Abnormal Returns')\n",
    "plt.legend()\n",
    "plt.show()\n"
   ]
  }
 ],
 "metadata": {
  "kernelspec": {
   "display_name": "Python 3",
   "language": "python",
   "name": "python3"
  },
  "language_info": {
   "codemirror_mode": {
    "name": "ipython",
    "version": 3
   },
   "file_extension": ".py",
   "mimetype": "text/x-python",
   "name": "python",
   "nbconvert_exporter": "python",
   "pygments_lexer": "ipython3",
   "version": "3.9.13"
  }
 },
 "nbformat": 4,
 "nbformat_minor": 2
}
